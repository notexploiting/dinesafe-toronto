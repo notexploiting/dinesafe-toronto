{
 "cells": [
  {
   "cell_type": "markdown",
   "id": "5504c30c",
   "metadata": {},
   "source": [
    "# DineSafe Toronto: Feature Engineering\n",
    "\n",
    "This notebook creates new columns or aggregations that'll help answer deeper questions:\n",
    "- Which establishments are higher risk? (risk scores)\n",
    "- Do some establishments repeatedly violate safety codes? \n",
    "- Which establishments have crucial infractions? (binary flags)\n",
    "- How do violations vary over time, geography, and establishment type?"
   ]
  },
  {
   "cell_type": "markdown",
   "id": "88948ed3",
   "metadata": {},
   "source": [
    "## Load the latest raw DineSafe CSV Data"
   ]
  },
  {
   "cell_type": "code",
   "execution_count": 1,
   "id": "b505849b",
   "metadata": {},
   "outputs": [
    {
     "name": "stdout",
     "output_type": "stream",
     "text": [
      "Loading dinesafe_20250606_120907.csv\n"
     ]
    }
   ],
   "source": [
    "import pandas as pd\n",
    "from pathlib import Path\n",
    "\n",
    "PROJECT_ROOT = Path.cwd().parent\n",
    "RAW_DIR = PROJECT_ROOT / \"data\" / \"raw\"\n",
    "\n",
    "csv_files = list(RAW_DIR.glob(\"dinesafe_*.csv\")) # finds all files matching this pattern\n",
    "\n",
    "if not csv_files:\n",
    "    raise FileNotFoundError(f\"No raw DineSave CSV files found in {RAW_DIR.resolve()}\") # .resolve() shows the absolute path\n",
    "\n",
    "latest_file = max(csv_files, key=lambda f: f.stat().st_mtime) # sort by last modified time, then pick the latest\n",
    "\n",
    "print(f\"Loading {latest_file.name}\")\n",
    "df = pd.read_csv(latest_file)"
   ]
  },
  {
   "cell_type": "markdown",
   "id": "f740f2e7",
   "metadata": {},
   "source": [
    "## Create Time-Based Features"
   ]
  },
  {
   "cell_type": "code",
   "execution_count": 3,
   "id": "9d2960ee",
   "metadata": {},
   "outputs": [],
   "source": [
    "df[\"Inspection Month\"] = pd.to_datetime(df[\"Inspection Date\"]).dt.month"
   ]
  },
  {
   "cell_type": "code",
   "execution_count": 4,
   "id": "9a0993fc",
   "metadata": {},
   "outputs": [],
   "source": [
    "df[\"Inspection Year\"] = pd.to_datetime(df[\"Inspection Date\"]).dt.year"
   ]
  }
 ],
 "metadata": {
  "kernelspec": {
   "display_name": "venv",
   "language": "python",
   "name": "python3"
  },
  "language_info": {
   "codemirror_mode": {
    "name": "ipython",
    "version": 3
   },
   "file_extension": ".py",
   "mimetype": "text/x-python",
   "name": "python",
   "nbconvert_exporter": "python",
   "pygments_lexer": "ipython3",
   "version": "3.12.4"
  }
 },
 "nbformat": 4,
 "nbformat_minor": 5
}
