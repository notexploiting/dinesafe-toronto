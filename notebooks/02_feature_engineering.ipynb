{
 "cells": [
  {
   "cell_type": "markdown",
   "id": "5504c30c",
   "metadata": {},
   "source": [
    "# DineSafe Toronto: Feature Engineering\n",
    "\n",
    "This notebook creates new columns or aggregations that'll help answer deeper questions:\n",
    "- Which establishments are higher risk? (risk scores)\n",
    "- Do some establishments repeatedly violate safety codes? \n",
    "- Which establishments have crucial infractions? (binary flags)\n",
    "- How do violations vary over time, geography, and establishment type?"
   ]
  },
  {
   "cell_type": "markdown",
   "id": "88948ed3",
   "metadata": {},
   "source": [
    "## Load the latest raw DineSafe CSV Data"
   ]
  },
  {
   "cell_type": "code",
   "execution_count": 14,
   "id": "b505849b",
   "metadata": {},
   "outputs": [
    {
     "name": "stdout",
     "output_type": "stream",
     "text": [
      "Loading dinesafe_20250606_120907.csv\n"
     ]
    }
   ],
   "source": [
    "import pandas as pd\n",
    "from pathlib import Path\n",
    "\n",
    "PROJECT_ROOT = Path.cwd().parent\n",
    "PROCESSED_DIR = PROJECT_ROOT / \"data\" / \"processed\"\n",
    "\n",
    "csv_files = list(PROCESSED_DIR.glob(\"dinesafe_*.csv\"))\n",
    "\n",
    "if not csv_files:\n",
    "    raise FileNotFoundError(f\"No processed DineSave CSV files found in {[PROCESSED_DIR.resolve()]}\")\n",
    "\n",
    "latest_file = max(csv_files, key=lambda f: f.stat().st_mtime)\n",
    "\n",
    "print(f\"Loading {latest_file.name}\")\n",
    "df = pd.read_csv(latest_file)"
   ]
  },
  {
   "cell_type": "code",
   "execution_count": 15,
   "id": "1f635f42",
   "metadata": {},
   "outputs": [],
   "source": [
    "# Convert types\n",
    "df['Inspection Date'] = pd.to_datetime(df['Inspection Date'])\n",
    "df['Inspection ID'] = df['Inspection ID'].astype('Int64')"
   ]
  },
  {
   "cell_type": "markdown",
   "id": "f740f2e7",
   "metadata": {},
   "source": [
    "## Create Time-Based Features"
   ]
  },
  {
   "cell_type": "code",
   "execution_count": 16,
   "id": "9d2960ee",
   "metadata": {},
   "outputs": [],
   "source": [
    "df[\"Inspection Month\"] = pd.to_datetime(df[\"Inspection Date\"]).dt.month"
   ]
  },
  {
   "cell_type": "code",
   "execution_count": 17,
   "id": "9a0993fc",
   "metadata": {},
   "outputs": [],
   "source": [
    "df[\"Inspection Year\"] = pd.to_datetime(df[\"Inspection Date\"]).dt.year"
   ]
  },
  {
   "cell_type": "code",
   "execution_count": 18,
   "id": "ce28c41f",
   "metadata": {},
   "outputs": [
    {
     "name": "stdout",
     "output_type": "stream",
     "text": [
      "<class 'pandas.core.frame.DataFrame'>\n",
      "RangeIndex: 129695 entries, 0 to 129694\n",
      "Data columns (total 19 columns):\n",
      " #   Column                     Non-Null Count   Dtype         \n",
      "---  ------                     --------------   -----         \n",
      " 0   _id                        129695 non-null  int64         \n",
      " 1   Establishment ID           129695 non-null  int64         \n",
      " 2   Inspection ID              127150 non-null  Int64         \n",
      " 3   Establishment Name         129695 non-null  object        \n",
      " 4   Establishment Type         129695 non-null  object        \n",
      " 5   Establishment Address      129695 non-null  object        \n",
      " 6   Establishment Status       129695 non-null  object        \n",
      " 7   Min. Inspections Per Year  129469 non-null  float64       \n",
      " 8   Infraction Details         80635 non-null   object        \n",
      " 9   Inspection Date            127150 non-null  datetime64[ns]\n",
      " 10  Severity                   80635 non-null   object        \n",
      " 11  Action                     80635 non-null   object        \n",
      " 12  Outcome                    425 non-null     object        \n",
      " 13  Amount Fined               297 non-null     float64       \n",
      " 14  Latitude                   129695 non-null  float64       \n",
      " 15  Longitude                  129695 non-null  float64       \n",
      " 16  unique_id                  129695 non-null  object        \n",
      " 17  Inspection Month           127150 non-null  float64       \n",
      " 18  Inspection Year            127150 non-null  float64       \n",
      "dtypes: Int64(1), datetime64[ns](1), float64(6), int64(2), object(9)\n",
      "memory usage: 18.9+ MB\n"
     ]
    }
   ],
   "source": [
    "df.info()"
   ]
  }
 ],
 "metadata": {
  "kernelspec": {
   "display_name": "venv",
   "language": "python",
   "name": "python3"
  },
  "language_info": {
   "codemirror_mode": {
    "name": "ipython",
    "version": 3
   },
   "file_extension": ".py",
   "mimetype": "text/x-python",
   "name": "python",
   "nbconvert_exporter": "python",
   "pygments_lexer": "ipython3",
   "version": "3.12.4"
  }
 },
 "nbformat": 4,
 "nbformat_minor": 5
}
