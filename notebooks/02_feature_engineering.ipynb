{
 "cells": [
  {
   "cell_type": "markdown",
   "id": "5504c30c",
   "metadata": {},
   "source": [
    "# DineSafe Toronto: Feature Engineering\n",
    "\n",
    "This notebook creates new columns or aggregations that'll help answer deeper questions:\n",
    "- Which establishments are higher risk? (risk scores)\n",
    "- Do some establishments repeatedly violate safety codes? \n",
    "- Which establishments have crucial infractions? (binary flags)\n",
    "- How do violations vary over time, geography, and establishment type?"
   ]
  },
  {
   "cell_type": "markdown",
   "id": "88948ed3",
   "metadata": {},
   "source": [
    "## Load the latest raw DineSafe CSV Data"
   ]
  },
  {
   "cell_type": "code",
   "execution_count": 1,
   "id": "b505849b",
   "metadata": {},
   "outputs": [
    {
     "name": "stdout",
     "output_type": "stream",
     "text": [
      "Loading dinesafe_20250801_153854.csv\n"
     ]
    }
   ],
   "source": [
    "import pandas as pd\n",
    "from pathlib import Path\n",
    "\n",
    "PROJECT_ROOT = Path.cwd().parent\n",
    "PROCESSED_DIR = PROJECT_ROOT / \"data\" / \"processed\"\n",
    "\n",
    "csv_files = list(PROCESSED_DIR.glob(\"dinesafe_*.csv\"))\n",
    "\n",
    "if not csv_files:\n",
    "    raise FileNotFoundError(f\"No processed DineSave CSV files found in {[PROCESSED_DIR.resolve()]}\")\n",
    "\n",
    "latest_file = max(csv_files, key=lambda f: f.stat().st_mtime)\n",
    "\n",
    "print(f\"Loading {latest_file.name}\")\n",
    "df = pd.read_csv(latest_file)"
   ]
  },
  {
   "cell_type": "code",
   "execution_count": 2,
   "id": "1f635f42",
   "metadata": {},
   "outputs": [],
   "source": [
    "# Convert types\n",
    "df['Inspection Date'] = pd.to_datetime(df['Inspection Date'])\n",
    "df['Inspection ID'] = df['Inspection ID'].astype('Int64')"
   ]
  },
  {
   "cell_type": "markdown",
   "id": "f740f2e7",
   "metadata": {},
   "source": [
    "## Create Time-Based Features"
   ]
  },
  {
   "cell_type": "code",
   "execution_count": 3,
   "id": "9d2960ee",
   "metadata": {},
   "outputs": [],
   "source": [
    "df[\"Inspection Month\"] = pd.to_datetime(df[\"Inspection Date\"]).dt.month"
   ]
  },
  {
   "cell_type": "code",
   "execution_count": 4,
   "id": "9a0993fc",
   "metadata": {},
   "outputs": [],
   "source": [
    "df[\"Inspection Year\"] = pd.to_datetime(df[\"Inspection Date\"]).dt.year"
   ]
  },
  {
   "cell_type": "code",
   "execution_count": 15,
   "id": "4838a7ab",
   "metadata": {},
   "outputs": [
    {
     "data": {
      "text/html": [
       "<div>\n",
       "<style scoped>\n",
       "    .dataframe tbody tr th:only-of-type {\n",
       "        vertical-align: middle;\n",
       "    }\n",
       "\n",
       "    .dataframe tbody tr th {\n",
       "        vertical-align: top;\n",
       "    }\n",
       "\n",
       "    .dataframe thead th {\n",
       "        text-align: right;\n",
       "    }\n",
       "</style>\n",
       "<table border=\"1\" class=\"dataframe\">\n",
       "  <thead>\n",
       "    <tr style=\"text-align: right;\">\n",
       "      <th></th>\n",
       "      <th>Inspection Date</th>\n",
       "      <th>Inspection Month</th>\n",
       "      <th>Inspection Year</th>\n",
       "    </tr>\n",
       "  </thead>\n",
       "  <tbody>\n",
       "    <tr>\n",
       "      <th>0</th>\n",
       "      <td>2023-03-07</td>\n",
       "      <td>3.0</td>\n",
       "      <td>2023.0</td>\n",
       "    </tr>\n",
       "    <tr>\n",
       "      <th>1</th>\n",
       "      <td>2023-03-07</td>\n",
       "      <td>3.0</td>\n",
       "      <td>2023.0</td>\n",
       "    </tr>\n",
       "    <tr>\n",
       "      <th>2</th>\n",
       "      <td>2023-08-25</td>\n",
       "      <td>8.0</td>\n",
       "      <td>2023.0</td>\n",
       "    </tr>\n",
       "    <tr>\n",
       "      <th>3</th>\n",
       "      <td>2022-08-10</td>\n",
       "      <td>8.0</td>\n",
       "      <td>2022.0</td>\n",
       "    </tr>\n",
       "    <tr>\n",
       "      <th>4</th>\n",
       "      <td>2022-08-10</td>\n",
       "      <td>8.0</td>\n",
       "      <td>2022.0</td>\n",
       "    </tr>\n",
       "  </tbody>\n",
       "</table>\n",
       "</div>"
      ],
      "text/plain": [
       "  Inspection Date  Inspection Month  Inspection Year\n",
       "0      2023-03-07               3.0           2023.0\n",
       "1      2023-03-07               3.0           2023.0\n",
       "2      2023-08-25               8.0           2023.0\n",
       "3      2022-08-10               8.0           2022.0\n",
       "4      2022-08-10               8.0           2022.0"
      ]
     },
     "execution_count": 15,
     "metadata": {},
     "output_type": "execute_result"
    }
   ],
   "source": [
    "df[['Inspection Date', 'Inspection Month', 'Inspection Year']].head(5)"
   ]
  },
  {
   "cell_type": "markdown",
   "id": "c4a2b1a9",
   "metadata": {},
   "source": [
    "## Create Flagging Features"
   ]
  },
  {
   "cell_type": "code",
   "execution_count": 6,
   "id": "7ead7a0b",
   "metadata": {},
   "outputs": [],
   "source": [
    "df[\"has_infraction\"] = df[\"Infraction Details\"].notna()"
   ]
  },
  {
   "cell_type": "code",
   "execution_count": 16,
   "id": "d1f5f683",
   "metadata": {},
   "outputs": [],
   "source": [
    "df[\"is_crucial\"] = df[\"Severity\"].eq(\"C - Crucial\")"
   ]
  },
  {
   "cell_type": "code",
   "execution_count": 17,
   "id": "18744bb6",
   "metadata": {},
   "outputs": [],
   "source": [
    "df[\"is_serious\"] = df[\"Severity\"].isin([\"C - Crucial\", \"S - Serious\"])"
   ]
  },
  {
   "cell_type": "code",
   "execution_count": 18,
   "id": "a1893327",
   "metadata": {},
   "outputs": [],
   "source": [
    "df[\"has_action_taken\"] = df[\"Action\"].notna()"
   ]
  },
  {
   "cell_type": "code",
   "execution_count": 22,
   "id": "e19e7edf",
   "metadata": {},
   "outputs": [],
   "source": [
    "df[\"was_fined\"] = df[\"Amount Fined\"] > 0"
   ]
  },
  {
   "cell_type": "code",
   "execution_count": 28,
   "id": "d7c95cce",
   "metadata": {},
   "outputs": [
    {
     "data": {
      "text/html": [
       "<div>\n",
       "<style scoped>\n",
       "    .dataframe tbody tr th:only-of-type {\n",
       "        vertical-align: middle;\n",
       "    }\n",
       "\n",
       "    .dataframe tbody tr th {\n",
       "        vertical-align: top;\n",
       "    }\n",
       "\n",
       "    .dataframe thead th {\n",
       "        text-align: right;\n",
       "    }\n",
       "</style>\n",
       "<table border=\"1\" class=\"dataframe\">\n",
       "  <thead>\n",
       "    <tr style=\"text-align: right;\">\n",
       "      <th></th>\n",
       "      <th>Infraction Details</th>\n",
       "      <th>has_infraction</th>\n",
       "      <th>Severity</th>\n",
       "      <th>is_crucial</th>\n",
       "      <th>is_serious</th>\n",
       "      <th>Action</th>\n",
       "    </tr>\n",
       "  </thead>\n",
       "  <tbody>\n",
       "    <tr>\n",
       "      <th>0</th>\n",
       "      <td>FOOD PREMISE NOT MAINTAINED WITH CLEAN FLOORS ...</td>\n",
       "      <td>True</td>\n",
       "      <td>M - Minor</td>\n",
       "      <td>False</td>\n",
       "      <td>False</td>\n",
       "      <td>Notice to Comply</td>\n",
       "    </tr>\n",
       "    <tr>\n",
       "      <th>1</th>\n",
       "      <td>Operate food premise - equipment not arranged ...</td>\n",
       "      <td>True</td>\n",
       "      <td>M - Minor</td>\n",
       "      <td>False</td>\n",
       "      <td>False</td>\n",
       "      <td>Notice to Comply</td>\n",
       "    </tr>\n",
       "    <tr>\n",
       "      <th>2</th>\n",
       "      <td>NaN</td>\n",
       "      <td>False</td>\n",
       "      <td>NaN</td>\n",
       "      <td>False</td>\n",
       "      <td>False</td>\n",
       "      <td>NaN</td>\n",
       "    </tr>\n",
       "    <tr>\n",
       "      <th>3</th>\n",
       "      <td>Fail to protect against entry of pests - Sec. ...</td>\n",
       "      <td>True</td>\n",
       "      <td>M - Minor</td>\n",
       "      <td>False</td>\n",
       "      <td>False</td>\n",
       "      <td>Notice to Comply</td>\n",
       "    </tr>\n",
       "    <tr>\n",
       "      <th>4</th>\n",
       "      <td>Store potentially hazardous foods at internal ...</td>\n",
       "      <td>True</td>\n",
       "      <td>C - Crucial</td>\n",
       "      <td>True</td>\n",
       "      <td>True</td>\n",
       "      <td>Notice to Comply</td>\n",
       "    </tr>\n",
       "  </tbody>\n",
       "</table>\n",
       "</div>"
      ],
      "text/plain": [
       "                                  Infraction Details  has_infraction  \\\n",
       "0  FOOD PREMISE NOT MAINTAINED WITH CLEAN FLOORS ...            True   \n",
       "1  Operate food premise - equipment not arranged ...            True   \n",
       "2                                                NaN           False   \n",
       "3  Fail to protect against entry of pests - Sec. ...            True   \n",
       "4  Store potentially hazardous foods at internal ...            True   \n",
       "\n",
       "      Severity  is_crucial  is_serious            Action  \n",
       "0    M - Minor       False       False  Notice to Comply  \n",
       "1    M - Minor       False       False  Notice to Comply  \n",
       "2          NaN       False       False               NaN  \n",
       "3    M - Minor       False       False  Notice to Comply  \n",
       "4  C - Crucial        True        True  Notice to Comply  "
      ]
     },
     "execution_count": 28,
     "metadata": {},
     "output_type": "execute_result"
    }
   ],
   "source": [
    "df[[\"Infraction Details\", \"has_infraction\", \"Severity\", \"is_crucial\", \"is_serious\", \"Action\"]].head(5)"
   ]
  },
  {
   "cell_type": "code",
   "execution_count": 27,
   "id": "d57f8c2f",
   "metadata": {},
   "outputs": [
    {
     "data": {
      "text/html": [
       "<div>\n",
       "<style scoped>\n",
       "    .dataframe tbody tr th:only-of-type {\n",
       "        vertical-align: middle;\n",
       "    }\n",
       "\n",
       "    .dataframe tbody tr th {\n",
       "        vertical-align: top;\n",
       "    }\n",
       "\n",
       "    .dataframe thead th {\n",
       "        text-align: right;\n",
       "    }\n",
       "</style>\n",
       "<table border=\"1\" class=\"dataframe\">\n",
       "  <thead>\n",
       "    <tr style=\"text-align: right;\">\n",
       "      <th></th>\n",
       "      <th>Amount Fined</th>\n",
       "      <th>was_fined</th>\n",
       "    </tr>\n",
       "  </thead>\n",
       "  <tbody>\n",
       "    <tr>\n",
       "      <th>0</th>\n",
       "      <td>NaN</td>\n",
       "      <td>False</td>\n",
       "    </tr>\n",
       "    <tr>\n",
       "      <th>1</th>\n",
       "      <td>NaN</td>\n",
       "      <td>False</td>\n",
       "    </tr>\n",
       "    <tr>\n",
       "      <th>1041</th>\n",
       "      <td>875.0</td>\n",
       "      <td>True</td>\n",
       "    </tr>\n",
       "    <tr>\n",
       "      <th>1636</th>\n",
       "      <td>1567.5</td>\n",
       "      <td>True</td>\n",
       "    </tr>\n",
       "  </tbody>\n",
       "</table>\n",
       "</div>"
      ],
      "text/plain": [
       "      Amount Fined  was_fined\n",
       "0              NaN      False\n",
       "1              NaN      False\n",
       "1041         875.0       True\n",
       "1636        1567.5       True"
      ]
     },
     "execution_count": 27,
     "metadata": {},
     "output_type": "execute_result"
    }
   ],
   "source": [
    "null_rows = df[df['Amount Fined'].isna()].head(2)\n",
    "notnull_rows = df[df['Amount Fined'].notna()].head(2)\n",
    "combined = pd.concat([null_rows, notnull_rows])\n",
    "combined[['Amount Fined', 'was_fined']]"
   ]
  },
  {
   "cell_type": "code",
   "execution_count": 30,
   "id": "08df7dd7",
   "metadata": {},
   "outputs": [],
   "source": [
    "df[\"total_inspections\"] = df.groupby(\"Establishment ID\")[\"Inspection ID\"].transform(\"count\")"
   ]
  },
  {
   "cell_type": "code",
   "execution_count": 29,
   "id": "40cc3072",
   "metadata": {},
   "outputs": [],
   "source": [
    "df[\"infraction_count\"] = df.groupby(\"Establishment ID\")[\"has_infraction\"].transform(\"sum\")"
   ]
  },
  {
   "cell_type": "code",
   "execution_count": 31,
   "id": "51b47e07",
   "metadata": {},
   "outputs": [],
   "source": [
    "df[\"infraction_rate\"] = df[\"infraction_count\"] / df[\"total_inspections\"]"
   ]
  },
  {
   "cell_type": "code",
   "execution_count": 35,
   "id": "e9488a14",
   "metadata": {},
   "outputs": [
    {
     "data": {
      "text/html": [
       "<div>\n",
       "<style scoped>\n",
       "    .dataframe tbody tr th:only-of-type {\n",
       "        vertical-align: middle;\n",
       "    }\n",
       "\n",
       "    .dataframe tbody tr th {\n",
       "        vertical-align: top;\n",
       "    }\n",
       "\n",
       "    .dataframe thead th {\n",
       "        text-align: right;\n",
       "    }\n",
       "</style>\n",
       "<table border=\"1\" class=\"dataframe\">\n",
       "  <thead>\n",
       "    <tr style=\"text-align: right;\">\n",
       "      <th></th>\n",
       "      <th>total_inspections</th>\n",
       "      <th>infraction_count</th>\n",
       "      <th>infraction_rate</th>\n",
       "    </tr>\n",
       "  </thead>\n",
       "  <tbody>\n",
       "    <tr>\n",
       "      <th>0</th>\n",
       "      <td>7</td>\n",
       "      <td>5</td>\n",
       "      <td>0.714286</td>\n",
       "    </tr>\n",
       "    <tr>\n",
       "      <th>1</th>\n",
       "      <td>7</td>\n",
       "      <td>5</td>\n",
       "      <td>0.714286</td>\n",
       "    </tr>\n",
       "    <tr>\n",
       "      <th>2</th>\n",
       "      <td>7</td>\n",
       "      <td>5</td>\n",
       "      <td>0.714286</td>\n",
       "    </tr>\n",
       "    <tr>\n",
       "      <th>3</th>\n",
       "      <td>37</td>\n",
       "      <td>36</td>\n",
       "      <td>0.972973</td>\n",
       "    </tr>\n",
       "    <tr>\n",
       "      <th>4</th>\n",
       "      <td>37</td>\n",
       "      <td>36</td>\n",
       "      <td>0.972973</td>\n",
       "    </tr>\n",
       "    <tr>\n",
       "      <th>...</th>\n",
       "      <td>...</td>\n",
       "      <td>...</td>\n",
       "      <td>...</td>\n",
       "    </tr>\n",
       "    <tr>\n",
       "      <th>136714</th>\n",
       "      <td>2</td>\n",
       "      <td>1</td>\n",
       "      <td>0.5</td>\n",
       "    </tr>\n",
       "    <tr>\n",
       "      <th>136718</th>\n",
       "      <td>2</td>\n",
       "      <td>1</td>\n",
       "      <td>0.5</td>\n",
       "    </tr>\n",
       "    <tr>\n",
       "      <th>136722</th>\n",
       "      <td>1</td>\n",
       "      <td>1</td>\n",
       "      <td>1.0</td>\n",
       "    </tr>\n",
       "    <tr>\n",
       "      <th>136723</th>\n",
       "      <td>5</td>\n",
       "      <td>0</td>\n",
       "      <td>0.0</td>\n",
       "    </tr>\n",
       "    <tr>\n",
       "      <th>136725</th>\n",
       "      <td>2</td>\n",
       "      <td>1</td>\n",
       "      <td>0.5</td>\n",
       "    </tr>\n",
       "  </tbody>\n",
       "</table>\n",
       "<p>79545 rows × 3 columns</p>\n",
       "</div>"
      ],
      "text/plain": [
       "        total_inspections  infraction_count  infraction_rate\n",
       "0                       7                 5         0.714286\n",
       "1                       7                 5         0.714286\n",
       "2                       7                 5         0.714286\n",
       "3                      37                36         0.972973\n",
       "4                      37                36         0.972973\n",
       "...                   ...               ...              ...\n",
       "136714                  2                 1              0.5\n",
       "136718                  2                 1              0.5\n",
       "136722                  1                 1              1.0\n",
       "136723                  5                 0              0.0\n",
       "136725                  2                 1              0.5\n",
       "\n",
       "[79545 rows x 3 columns]"
      ]
     },
     "execution_count": 35,
     "metadata": {},
     "output_type": "execute_result"
    }
   ],
   "source": [
    "# Group by 'Establishment ID' and show only the specified columns\n",
    "df.groupby(\"Establishment ID\")[[\"total_inspections\", \"infraction_count\", \"infraction_rate\"]].head(5)"
   ]
  }
 ],
 "metadata": {
  "kernelspec": {
   "display_name": ".venv",
   "language": "python",
   "name": "python3"
  },
  "language_info": {
   "codemirror_mode": {
    "name": "ipython",
    "version": 3
   },
   "file_extension": ".py",
   "mimetype": "text/x-python",
   "name": "python",
   "nbconvert_exporter": "python",
   "pygments_lexer": "ipython3",
   "version": "3.13.5"
  }
 },
 "nbformat": 4,
 "nbformat_minor": 5
}
