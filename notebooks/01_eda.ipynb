{
 "cells": [
  {
   "cell_type": "markdown",
   "id": "476a7b6c",
   "metadata": {},
   "source": [
    "# DineSafe Toronto: Exploratory Data Analysis (EDA)\n",
    "\n",
    "This notebook explores restaurant inspection data from the City of Toronto's DineSafe program."
   ]
  },
  {
   "cell_type": "markdown",
   "id": "a5e7cc50",
   "metadata": {},
   "source": [
    "## Data Download Instructions\n",
    "\n",
    "Before running this notebook, ensure the latest DineSafe dataset is available in `data/raw/`. To download the dataset:\n",
    "\n",
    "```bash\n",
    "python src/download_data.py\n",
    "```\n",
    "\n",
    "This will:\n",
    "* Fetch metadata for the package from Toronto's Open Data portal\n",
    "* Automatically find the latest available resources\n",
    "* Save the CSV with a timestamped filename to `data/raw/`\n",
    "\n",
    "Once the data is saved, this notebook will automatically detect and load the most recent file."
   ]
  },
  {
   "cell_type": "markdown",
   "id": "e25e4c32",
   "metadata": {},
   "source": [
    "## Load the latest raw DineSafe CSV Data\n",
    "\n",
    "\n",
    "(generated using the `download_data.py` script)"
   ]
  },
  {
   "cell_type": "code",
   "execution_count": 12,
   "id": "5612cf50",
   "metadata": {},
   "outputs": [
    {
     "name": "stdout",
     "output_type": "stream",
     "text": [
      "Loading dinesafe_20250606_120907.csv\n"
     ]
    }
   ],
   "source": [
    "import pandas as pd\n",
    "from pathlib import Path\n",
    "\n",
    "PROJECT_ROOT = Path.cwd().parent\n",
    "RAW_DIR = PROJECT_ROOT / \"data\" / \"raw\"\n",
    "\n",
    "csv_files = list(RAW_DIR.glob(\"dinesafe_*.csv\")) # finds all files matching this pattern\n",
    "\n",
    "if not csv_files:\n",
    "    raise FileNotFoundError(f\"No raw DineSave CSV files found in {RAW_DIR.resolve()}\") # .resolve() shows the absolute path\n",
    "\n",
    "latest_file = max(csv_files, key=lambda f: f.stat().st_mtime) # sort by last modified time, then pick the latest\n",
    "\n",
    "print(f\"Loading {latest_file.name}\")\n",
    "df = pd.read_csv(latest_file)"
   ]
  }
 ],
 "metadata": {
  "kernelspec": {
   "display_name": "venv",
   "language": "python",
   "name": "python3"
  },
  "language_info": {
   "codemirror_mode": {
    "name": "ipython",
    "version": 3
   },
   "file_extension": ".py",
   "mimetype": "text/x-python",
   "name": "python",
   "nbconvert_exporter": "python",
   "pygments_lexer": "ipython3",
   "version": "3.12.4"
  }
 },
 "nbformat": 4,
 "nbformat_minor": 5
}
