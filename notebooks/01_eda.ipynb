{
 "cells": [
  {
   "cell_type": "markdown",
   "id": "476a7b6c",
   "metadata": {},
   "source": [
    "# DineSafe Toronto: Exploratory Data Analysis (EDA)\n",
    "\n",
    "This notebook explores restaurant inspection data from the City of Toronto's DineSafe program."
   ]
  },
  {
   "cell_type": "markdown",
   "id": "a5e7cc50",
   "metadata": {},
   "source": [
    "## Data Download Instructions\n",
    "\n",
    "Before running this notebook, ensure the latest DineSafe dataset is available in `data/raw/`. To download the dataset:\n",
    "\n",
    "```bash\n",
    "python src/download_data.py\n",
    "```\n",
    "\n",
    "This will:\n",
    "* Fetch metadata for the package from Toronto's Open Data portal\n",
    "* Automatically find the latest available resources\n",
    "* Save the CSV with a timestamped filename to `data/raw/`\n",
    "\n",
    "Once the data is saved, this notebook will automatically detect and load the most recent file."
   ]
  },
  {
   "cell_type": "markdown",
   "id": "e25e4c32",
   "metadata": {},
   "source": [
    "## Load the latest raw DineSafe CSV Data\n",
    "\n",
    "\n",
    "(generated using the `download_data.py` script)"
   ]
  },
  {
   "cell_type": "code",
   "execution_count": 14,
   "id": "5612cf50",
   "metadata": {},
   "outputs": [
    {
     "name": "stdout",
     "output_type": "stream",
     "text": [
      "Loading dinesafe_20250606_120907.csv\n"
     ]
    }
   ],
   "source": [
    "import pandas as pd\n",
    "from pathlib import Path\n",
    "\n",
    "PROJECT_ROOT = Path.cwd().parent\n",
    "RAW_DIR = PROJECT_ROOT / \"data\" / \"raw\"\n",
    "\n",
    "csv_files = list(RAW_DIR.glob(\"dinesafe_*.csv\")) # finds all files matching this pattern\n",
    "\n",
    "if not csv_files:\n",
    "    raise FileNotFoundError(f\"No raw DineSave CSV files found in {RAW_DIR.resolve()}\") # .resolve() shows the absolute path\n",
    "\n",
    "latest_file = max(csv_files, key=lambda f: f.stat().st_mtime) # sort by last modified time, then pick the latest\n",
    "\n",
    "print(f\"Loading {latest_file.name}\")\n",
    "df = pd.read_csv(latest_file)"
   ]
  },
  {
   "cell_type": "markdown",
   "id": "0a833508",
   "metadata": {},
   "source": [
    "# Data Cleaning\n",
    "\n",
    "We'll first inspect the data for any:\n",
    "* Wrong data types\n",
    "* Missing values\n",
    "* Inconsistent category labels\n",
    "* Duplicate rows\n",
    "\n",
    "and then perform the necessary actions on the data.\n",
    "\n",
    "## Initial Data Inspection"
   ]
  },
  {
   "cell_type": "code",
   "execution_count": 40,
   "id": "57ad8864",
   "metadata": {},
   "outputs": [
    {
     "name": "stdout",
     "output_type": "stream",
     "text": [
      "<class 'pandas.core.frame.DataFrame'>\n",
      "RangeIndex: 129695 entries, 0 to 129694\n",
      "Data columns (total 17 columns):\n",
      " #   Column                     Non-Null Count   Dtype  \n",
      "---  ------                     --------------   -----  \n",
      " 0   _id                        129695 non-null  int64  \n",
      " 1   Establishment ID           129695 non-null  int64  \n",
      " 2   Inspection ID              127150 non-null  float64\n",
      " 3   Establishment Name         129695 non-null  object \n",
      " 4   Establishment Type         129695 non-null  object \n",
      " 5   Establishment Address      129695 non-null  object \n",
      " 6   Establishment Status       129695 non-null  object \n",
      " 7   Min. Inspections Per Year  129695 non-null  object \n",
      " 8   Infraction Details         80635 non-null   object \n",
      " 9   Inspection Date            127150 non-null  object \n",
      " 10  Severity                   80635 non-null   object \n",
      " 11  Action                     80635 non-null   object \n",
      " 12  Outcome                    425 non-null     object \n",
      " 13  Amount Fined               297 non-null     float64\n",
      " 14  Latitude                   129695 non-null  float64\n",
      " 15  Longitude                  129695 non-null  float64\n",
      " 16  unique_id                  129695 non-null  object \n",
      "dtypes: float64(4), int64(2), object(11)\n",
      "memory usage: 16.8+ MB\n"
     ]
    }
   ],
   "source": [
    "# Count the amount of non-null values in each column, and get their respective data type\n",
    "\n",
    "df.info()"
   ]
  },
  {
   "cell_type": "code",
   "execution_count": null,
   "id": "b1d73753",
   "metadata": {},
   "outputs": [
    {
     "data": {
      "text/plain": [
       "Amount Fined                 129398\n",
       "Outcome                      129270\n",
       "Infraction Details            49060\n",
       "Action                        49060\n",
       "Severity                      49060\n",
       "Inspection Date                2545\n",
       "Inspection ID                  2545\n",
       "Longitude                         0\n",
       "Latitude                          0\n",
       "_id                               0\n",
       "Establishment ID                  0\n",
       "Min. Inspections Per Year         0\n",
       "Establishment Status              0\n",
       "Establishment Address             0\n",
       "Establishment Type                0\n",
       "Establishment Name                0\n",
       "unique_id                         0\n",
       "dtype: int64"
      ]
     },
     "execution_count": 34,
     "metadata": {},
     "output_type": "execute_result"
    }
   ],
   "source": [
    "# Gets the total amount of null values in each column, sorted in descending order\n",
    "\n",
    "df.isnull().sum().sort_values(ascending=False)"
   ]
  },
  {
   "cell_type": "code",
   "execution_count": null,
   "id": "827effcc",
   "metadata": {},
   "outputs": [
    {
     "data": {
      "text/plain": [
       "np.float64(0.9977100119511161)"
      ]
     },
     "execution_count": 61,
     "metadata": {},
     "output_type": "execute_result"
    }
   ],
   "source": [
    "# Calculates the percentage of the `Amount Fined` column that's null\n",
    "\n",
    "df['Amount Fined'].isnull().sum()/len(df)"
   ]
  },
  {
   "cell_type": "code",
   "execution_count": 66,
   "id": "259378ec",
   "metadata": {},
   "outputs": [
    {
     "data": {
      "text/plain": [
       "np.float64(0.9977100119511161)"
      ]
     },
     "execution_count": 66,
     "metadata": {},
     "output_type": "execute_result"
    }
   ],
   "source": [
    "# Calculates the percentage of the `Outcome` column that's null\n",
    "\n",
    "df['Amount Fined'].isnull().mean()"
   ]
  },
  {
   "cell_type": "code",
   "execution_count": 62,
   "id": "2b4900d2",
   "metadata": {},
   "outputs": [
    {
     "data": {
      "text/plain": [
       "np.float64(0.3782720999267512)"
      ]
     },
     "execution_count": 62,
     "metadata": {},
     "output_type": "execute_result"
    }
   ],
   "source": [
    "# Calculates the percentage of the 'Infraction Details' column that's null\n",
    "\n",
    "df['Infraction Details'].isnull().mean()"
   ]
  },
  {
   "cell_type": "code",
   "execution_count": 64,
   "id": "9afef460",
   "metadata": {},
   "outputs": [
    {
     "data": {
      "text/plain": [
       "Outcome\n",
       "Cancelled                           17\n",
       "Charges Withdrawn                   20\n",
       "Conviction - Fined                 261\n",
       "Conviction - Suspended Sentence      1\n",
       "Pending                            126\n",
       "Name: Outcome, dtype: int64"
      ]
     },
     "execution_count": 64,
     "metadata": {},
     "output_type": "execute_result"
    }
   ],
   "source": [
    "# Counts the different values we have for the 'Outcome' column\n",
    "\n",
    "df.groupby('Outcome').Outcome.count()"
   ]
  },
  {
   "cell_type": "code",
   "execution_count": 36,
   "id": "41fabd54",
   "metadata": {},
   "outputs": [
    {
     "data": {
      "text/plain": [
       "np.int64(0)"
      ]
     },
     "execution_count": 36,
     "metadata": {},
     "output_type": "execute_result"
    }
   ],
   "source": [
    "# Counts any duplicate rows\n",
    "\n",
    "df.duplicated().sum()"
   ]
  },
  {
   "cell_type": "markdown",
   "id": "e0ff6624",
   "metadata": {},
   "source": [
    "### Key Findings\n",
    "- No duplicate rows found\n",
    "- All the rows have the majority of key columns complete, such as `Latitude`, `Longitude` (great for some mapping), `_id`, `Establishment ID`, etc.\n",
    "- `Amount Fined`: 99.8% missing - likely only used when fines are issued\n",
    "- 'Outcome' column is 99.8% missing, but has 5 distinct values:\n",
    "    - Most frequent: **Conviction - Fined** (261 cases)\n",
    "    - Others: Cancelled, Charges Withdrawn, Conviction - Suspended Sentence, Pending\n",
    "- Might consider moving the two sparsely populated columns to their own feature group\n",
    "- `Inspection Date` is not in DateTime format\n",
    "- `Inspection ID` is stored as a float, likely should be integer"
   ]
  },
  {
   "cell_type": "markdown",
   "id": "8afb2e01",
   "metadata": {},
   "source": [
    "## Cleaning Plan\n",
    "\n",
    "- Convert columns to correct types\n",
    "- Handle missing values (perhaps impute)\n",
    "- Normalize names\n",
    "- Possibly drop sparse columns (likely not useful for EDA, but rather a targeted legal analysis)"
   ]
  },
  {
   "cell_type": "markdown",
   "id": "ba1b908a",
   "metadata": {},
   "source": [
    "## Cleaning Operations\n",
    "\n",
    "We now apply the changes based on our inspection."
   ]
  },
  {
   "cell_type": "code",
   "execution_count": 69,
   "id": "aa8634df",
   "metadata": {},
   "outputs": [
    {
     "name": "stdout",
     "output_type": "stream",
     "text": [
      "<class 'pandas.core.frame.DataFrame'>\n",
      "RangeIndex: 129695 entries, 0 to 129694\n",
      "Data columns (total 17 columns):\n",
      " #   Column                     Non-Null Count   Dtype         \n",
      "---  ------                     --------------   -----         \n",
      " 0   _id                        129695 non-null  int64         \n",
      " 1   Establishment ID           129695 non-null  int64         \n",
      " 2   Inspection ID              127150 non-null  Int64         \n",
      " 3   Establishment Name         129695 non-null  object        \n",
      " 4   Establishment Type         129695 non-null  object        \n",
      " 5   Establishment Address      129695 non-null  object        \n",
      " 6   Establishment Status       129695 non-null  object        \n",
      " 7   Min. Inspections Per Year  129695 non-null  object        \n",
      " 8   Infraction Details         80635 non-null   object        \n",
      " 9   Inspection Date            127150 non-null  datetime64[ns]\n",
      " 10  Severity                   80635 non-null   object        \n",
      " 11  Action                     80635 non-null   object        \n",
      " 12  Outcome                    425 non-null     object        \n",
      " 13  Amount Fined               297 non-null     float64       \n",
      " 14  Latitude                   129695 non-null  float64       \n",
      " 15  Longitude                  129695 non-null  float64       \n",
      " 16  unique_id                  129695 non-null  object        \n",
      "dtypes: Int64(1), datetime64[ns](1), float64(3), int64(2), object(10)\n",
      "memory usage: 16.9+ MB\n"
     ]
    }
   ],
   "source": [
    "# Convert types\n",
    "df['Inspection Date'] = pd.to_datetime(df['Inspection Date'])\n",
    "df['Inspection ID'] = df['Inspection ID'].astype('Int64')\n",
    "\n",
    "# Normalize text\n",
    "df['Establishment Type'] = df['Establishment Type'].str.strip().str.title()\n",
    "\n",
    "# Drop low-value columns (temporarily)\n",
    "# df = df.drop(columns=['Outcome', 'Amount Fined'])\n",
    "# Not dropping these columns yet, but excluding from visualizations and analysis\n",
    "\n",
    "# Check\n",
    "df.info()"
   ]
  }
 ],
 "metadata": {
  "kernelspec": {
   "display_name": "venv",
   "language": "python",
   "name": "python3"
  },
  "language_info": {
   "codemirror_mode": {
    "name": "ipython",
    "version": 3
   },
   "file_extension": ".py",
   "mimetype": "text/x-python",
   "name": "python",
   "nbconvert_exporter": "python",
   "pygments_lexer": "ipython3",
   "version": "3.12.4"
  }
 },
 "nbformat": 4,
 "nbformat_minor": 5
}
