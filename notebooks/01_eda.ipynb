{
 "cells": [
  {
   "cell_type": "markdown",
   "id": "476a7b6c",
   "metadata": {},
   "source": [
    "# DineSafe Toronto: Exploratory Data Analysis (EDA)\n",
    "\n",
    "This notebook explores restaurant inspection data from the City of Toronto's DineSafe program."
   ]
  },
  {
   "cell_type": "markdown",
   "id": "a5e7cc50",
   "metadata": {},
   "source": [
    "## Data Download Instructions\n",
    "\n",
    "Before running this notebook, ensure the latest DineSafe dataset is available in `data/raw/`. To download the dataset:\n",
    "\n",
    "```bash\n",
    "python src/download_data.py\n",
    "```\n",
    "\n",
    "This will:\n",
    "* Fetch metadata for the package from Toronto's Open Data portal\n",
    "* Automatically find the latest available resources\n",
    "* Save the CSV with a timestamped filename to `data/raw/`\n",
    "\n",
    "Once the data is saved, this notebook will automatically detect and load the most recent file."
   ]
  },
  {
   "cell_type": "markdown",
   "id": "e25e4c32",
   "metadata": {},
   "source": [
    "## Load the latest raw DineSafe CSV Data\n",
    "\n",
    "\n",
    "(generated using the `download_data.py` script)"
   ]
  },
  {
   "cell_type": "code",
   "execution_count": 2,
   "id": "5612cf50",
   "metadata": {},
   "outputs": [
    {
     "name": "stdout",
     "output_type": "stream",
     "text": [
      "Loading dinesafe_20250606_120907.csv\n"
     ]
    }
   ],
   "source": [
    "import pandas as pd\n",
    "from pathlib import Path\n",
    "\n",
    "PROJECT_ROOT = Path.cwd().parent\n",
    "RAW_DIR = PROJECT_ROOT / \"data\" / \"raw\"\n",
    "\n",
    "csv_files = list(RAW_DIR.glob(\"dinesafe_*.csv\")) # finds all files matching this pattern\n",
    "\n",
    "if not csv_files:\n",
    "    raise FileNotFoundError(f\"No raw DineSave CSV files found in {RAW_DIR.resolve()}\") # .resolve() shows the absolute path\n",
    "\n",
    "latest_file = max(csv_files, key=lambda f: f.stat().st_mtime) # sort by last modified time, then pick the latest\n",
    "\n",
    "print(f\"Loading {latest_file.name}\")\n",
    "df = pd.read_csv(latest_file)"
   ]
  },
  {
   "cell_type": "markdown",
   "id": "0a833508",
   "metadata": {},
   "source": [
    "## Data Cleaning\n",
    "\n",
    "We'll first inspect the data for any:\n",
    "* Wrong data types\n",
    "* Missing values\n",
    "* Inconsistent category labels\n",
    "* Duplicate rows\n",
    "\n",
    "and then perform the necessary actions on the data.\n",
    "\n",
    "## Initial Data Inspection"
   ]
  },
  {
   "cell_type": "code",
   "execution_count": 3,
   "id": "57ad8864",
   "metadata": {},
   "outputs": [
    {
     "name": "stdout",
     "output_type": "stream",
     "text": [
      "<class 'pandas.core.frame.DataFrame'>\n",
      "RangeIndex: 129695 entries, 0 to 129694\n",
      "Data columns (total 17 columns):\n",
      " #   Column                     Non-Null Count   Dtype  \n",
      "---  ------                     --------------   -----  \n",
      " 0   _id                        129695 non-null  int64  \n",
      " 1   Establishment ID           129695 non-null  int64  \n",
      " 2   Inspection ID              127150 non-null  float64\n",
      " 3   Establishment Name         129695 non-null  object \n",
      " 4   Establishment Type         129695 non-null  object \n",
      " 5   Establishment Address      129695 non-null  object \n",
      " 6   Establishment Status       129695 non-null  object \n",
      " 7   Min. Inspections Per Year  129695 non-null  object \n",
      " 8   Infraction Details         80635 non-null   object \n",
      " 9   Inspection Date            127150 non-null  object \n",
      " 10  Severity                   80635 non-null   object \n",
      " 11  Action                     80635 non-null   object \n",
      " 12  Outcome                    425 non-null     object \n",
      " 13  Amount Fined               297 non-null     float64\n",
      " 14  Latitude                   129695 non-null  float64\n",
      " 15  Longitude                  129695 non-null  float64\n",
      " 16  unique_id                  129695 non-null  object \n",
      "dtypes: float64(4), int64(2), object(11)\n",
      "memory usage: 16.8+ MB\n"
     ]
    }
   ],
   "source": [
    "# Count the amount of non-null values in each column, and get their respective data type\n",
    "\n",
    "df.info()"
   ]
  },
  {
   "cell_type": "code",
   "execution_count": 4,
   "id": "b1d73753",
   "metadata": {},
   "outputs": [
    {
     "data": {
      "text/plain": [
       "Amount Fined                 129398\n",
       "Outcome                      129270\n",
       "Infraction Details            49060\n",
       "Action                        49060\n",
       "Severity                      49060\n",
       "Inspection Date                2545\n",
       "Inspection ID                  2545\n",
       "Longitude                         0\n",
       "Latitude                          0\n",
       "_id                               0\n",
       "Establishment ID                  0\n",
       "Min. Inspections Per Year         0\n",
       "Establishment Status              0\n",
       "Establishment Address             0\n",
       "Establishment Type                0\n",
       "Establishment Name                0\n",
       "unique_id                         0\n",
       "dtype: int64"
      ]
     },
     "execution_count": 4,
     "metadata": {},
     "output_type": "execute_result"
    }
   ],
   "source": [
    "# Gets the total amount of null values in each column, sorted in descending order\n",
    "\n",
    "df.isnull().sum().sort_values(ascending=False)"
   ]
  },
  {
   "cell_type": "code",
   "execution_count": 5,
   "id": "827effcc",
   "metadata": {},
   "outputs": [
    {
     "data": {
      "text/plain": [
       "np.float64(0.9977100119511161)"
      ]
     },
     "execution_count": 5,
     "metadata": {},
     "output_type": "execute_result"
    }
   ],
   "source": [
    "# Calculates the percentage of the `Amount Fined` column that's null\n",
    "\n",
    "df['Amount Fined'].isnull().sum()/len(df)"
   ]
  },
  {
   "cell_type": "code",
   "execution_count": 6,
   "id": "259378ec",
   "metadata": {},
   "outputs": [
    {
     "data": {
      "text/plain": [
       "np.float64(0.9977100119511161)"
      ]
     },
     "execution_count": 6,
     "metadata": {},
     "output_type": "execute_result"
    }
   ],
   "source": [
    "# Calculates the percentage of the `Outcome` column that's null\n",
    "\n",
    "df['Amount Fined'].isnull().mean()"
   ]
  },
  {
   "cell_type": "code",
   "execution_count": 7,
   "id": "2b4900d2",
   "metadata": {},
   "outputs": [
    {
     "data": {
      "text/plain": [
       "np.float64(0.3782720999267512)"
      ]
     },
     "execution_count": 7,
     "metadata": {},
     "output_type": "execute_result"
    }
   ],
   "source": [
    "# Calculates the percentage of the 'Infraction Details' column that's null\n",
    "\n",
    "df['Infraction Details'].isnull().mean()"
   ]
  },
  {
   "cell_type": "code",
   "execution_count": 8,
   "id": "9afef460",
   "metadata": {},
   "outputs": [
    {
     "data": {
      "text/plain": [
       "Outcome\n",
       "Cancelled                           17\n",
       "Charges Withdrawn                   20\n",
       "Conviction - Fined                 261\n",
       "Conviction - Suspended Sentence      1\n",
       "Pending                            126\n",
       "Name: Outcome, dtype: int64"
      ]
     },
     "execution_count": 8,
     "metadata": {},
     "output_type": "execute_result"
    }
   ],
   "source": [
    "# Counts the different values we have for the 'Outcome' column\n",
    "\n",
    "df.groupby('Outcome').Outcome.count()"
   ]
  },
  {
   "cell_type": "code",
   "execution_count": 9,
   "id": "41fabd54",
   "metadata": {},
   "outputs": [
    {
     "data": {
      "text/plain": [
       "np.int64(0)"
      ]
     },
     "execution_count": 9,
     "metadata": {},
     "output_type": "execute_result"
    }
   ],
   "source": [
    "# Counts any duplicate rows\n",
    "\n",
    "df.duplicated().sum()"
   ]
  },
  {
   "cell_type": "markdown",
   "id": "e0ff6624",
   "metadata": {},
   "source": [
    "### Key Findings\n",
    "- No duplicate rows found\n",
    "- All the rows have the majority of key columns complete, such as `Latitude`, `Longitude` (great for some mapping), `_id`, `Establishment ID`, etc.\n",
    "- `Amount Fined`: 99.8% missing - likely only used when fines are issued\n",
    "- 'Outcome' column is 99.8% missing, but has 5 distinct values:\n",
    "    - Most frequent: **Conviction - Fined** (261 cases)\n",
    "    - Others: Cancelled, Charges Withdrawn, Conviction - Suspended Sentence, Pending\n",
    "- Might consider moving the two sparsely populated columns to their own feature group\n",
    "- `Inspection Date` is not in DateTime format\n",
    "- `Inspection ID` is stored as a float, likely should be integer"
   ]
  },
  {
   "cell_type": "markdown",
   "id": "8afb2e01",
   "metadata": {},
   "source": [
    "## Cleaning Plan\n",
    "\n",
    "- Convert columns to correct types\n",
    "- Handle missing values (perhaps impute)\n",
    "- Normalize names\n",
    "- Possibly drop sparse columns (likely not useful for EDA, but rather a targeted legal analysis)"
   ]
  },
  {
   "cell_type": "markdown",
   "id": "ba1b908a",
   "metadata": {},
   "source": [
    "## Cleaning Operations\n",
    "\n",
    "We now apply the changes based on our inspection."
   ]
  },
  {
   "cell_type": "code",
   "execution_count": 10,
   "id": "aa8634df",
   "metadata": {},
   "outputs": [
    {
     "name": "stdout",
     "output_type": "stream",
     "text": [
      "<class 'pandas.core.frame.DataFrame'>\n",
      "RangeIndex: 129695 entries, 0 to 129694\n",
      "Data columns (total 17 columns):\n",
      " #   Column                     Non-Null Count   Dtype         \n",
      "---  ------                     --------------   -----         \n",
      " 0   _id                        129695 non-null  int64         \n",
      " 1   Establishment ID           129695 non-null  int64         \n",
      " 2   Inspection ID              127150 non-null  Int64         \n",
      " 3   Establishment Name         129695 non-null  object        \n",
      " 4   Establishment Type         129695 non-null  object        \n",
      " 5   Establishment Address      129695 non-null  object        \n",
      " 6   Establishment Status       129695 non-null  object        \n",
      " 7   Min. Inspections Per Year  129695 non-null  object        \n",
      " 8   Infraction Details         80635 non-null   object        \n",
      " 9   Inspection Date            127150 non-null  datetime64[ns]\n",
      " 10  Severity                   80635 non-null   object        \n",
      " 11  Action                     80635 non-null   object        \n",
      " 12  Outcome                    425 non-null     object        \n",
      " 13  Amount Fined               297 non-null     float64       \n",
      " 14  Latitude                   129695 non-null  float64       \n",
      " 15  Longitude                  129695 non-null  float64       \n",
      " 16  unique_id                  129695 non-null  object        \n",
      "dtypes: Int64(1), datetime64[ns](1), float64(3), int64(2), object(10)\n",
      "memory usage: 16.9+ MB\n"
     ]
    }
   ],
   "source": [
    "# Convert types\n",
    "df['Inspection Date'] = pd.to_datetime(df['Inspection Date'])\n",
    "df['Inspection ID'] = df['Inspection ID'].astype('Int64')\n",
    "\n",
    "# Normalize text\n",
    "df['Establishment Type'] = df['Establishment Type'].str.strip().str.title()\n",
    "\n",
    "# Drop low-value columns (temporarily)\n",
    "# df = df.drop(columns=['Outcome', 'Amount Fined'])\n",
    "# Not dropping these columns yet, but excluding from visualizations and analysis\n",
    "\n",
    "# Check\n",
    "df.info()"
   ]
  },
  {
   "cell_type": "markdown",
   "id": "2f4e3f66",
   "metadata": {},
   "source": [
    "## Exploratory Data Analysis (EDA)\n",
    "\n",
    "Now that the data is cleaned, we can begin exploring trends and distributions in inspection data."
   ]
  },
  {
   "cell_type": "code",
   "execution_count": 11,
   "id": "75b69014",
   "metadata": {},
   "outputs": [],
   "source": [
    "import matplotlib.pyplot as plt\n",
    "import matplotlib.dates as mdates\n",
    "import numpy as np"
   ]
  },
  {
   "cell_type": "markdown",
   "id": "0f7e91b3",
   "metadata": {},
   "source": [
    "### How many inspections are conducted per month?"
   ]
  },
  {
   "cell_type": "code",
   "execution_count": 12,
   "id": "d74c5d72",
   "metadata": {},
   "outputs": [
    {
     "name": "stdout",
     "output_type": "stream",
     "text": [
      "<class 'pandas.core.frame.DataFrame'>\n",
      "Index: 43025 entries, 84607 to 129694\n",
      "Data columns (total 17 columns):\n",
      " #   Column                     Non-Null Count  Dtype         \n",
      "---  ------                     --------------  -----         \n",
      " 0   _id                        43025 non-null  int64         \n",
      " 1   Establishment ID           43025 non-null  int64         \n",
      " 2   Inspection ID              43025 non-null  Int64         \n",
      " 3   Establishment Name         43025 non-null  object        \n",
      " 4   Establishment Type         43025 non-null  object        \n",
      " 5   Establishment Address      43025 non-null  object        \n",
      " 6   Establishment Status       43025 non-null  object        \n",
      " 7   Min. Inspections Per Year  43025 non-null  object        \n",
      " 8   Infraction Details         27503 non-null  object        \n",
      " 9   Inspection Date            43025 non-null  datetime64[ns]\n",
      " 10  Severity                   27503 non-null  object        \n",
      " 11  Action                     27503 non-null  object        \n",
      " 12  Outcome                    170 non-null    object        \n",
      " 13  Amount Fined               65 non-null     float64       \n",
      " 14  Latitude                   43025 non-null  float64       \n",
      " 15  Longitude                  43025 non-null  float64       \n",
      " 16  unique_id                  43025 non-null  object        \n",
      "dtypes: Int64(1), datetime64[ns](1), float64(3), int64(2), object(10)\n",
      "memory usage: 5.9+ MB\n"
     ]
    }
   ],
   "source": [
    "# Filter DataFrame for inspections from the past year and a half\n",
    "df_recent = df[df[\"Inspection Date\"] >= (pd.Timestamp.now() - pd.DateOffset(months=12))]\n",
    "df_recent.info()"
   ]
  },
  {
   "cell_type": "code",
   "execution_count": 13,
   "id": "b40702ad",
   "metadata": {},
   "outputs": [
    {
     "data": {
      "text/plain": [
       "Inspection Date\n",
       "2024-11    4700\n",
       "2024-10    4503\n",
       "2025-04    4189\n",
       "2024-08    4081\n",
       "2025-03    3949\n",
       "2024-07    3889\n",
       "2025-05    3798\n",
       "2025-01    3365\n",
       "2024-12    3109\n",
       "2024-09    3020\n",
       "2025-02    3008\n",
       "2025-06     737\n",
       "2024-06     677\n",
       "Freq: M, Name: count, dtype: int64"
      ]
     },
     "execution_count": 13,
     "metadata": {},
     "output_type": "execute_result"
    }
   ],
   "source": [
    "# Count the values in each YYYY-MM date\n",
    "df_recent['Inspection Date'].dt.to_period(\"M\").value_counts() # '2000-03-31 00:00:00' -> '2000-03'"
   ]
  },
  {
   "cell_type": "code",
   "execution_count": 14,
   "id": "6080c215",
   "metadata": {},
   "outputs": [
    {
     "data": {
      "image/png": "[encoded data removed]",
      "text/plain": [
       "<Figure size 640x480 with 1 Axes>"
      ]
     },
     "metadata": {},
     "output_type": "display_data"
    }
   ],
   "source": [
    "df_recent['Inspection Date'].dt.to_period(\"M\").value_counts().sort_index().plot.bar()\n",
    "plt.ylabel(\"Number of Inspections\")\n",
    "plt.xlabel(\"Month\")\n",
    "plt.title(\"Monthly Inspection Volume\")\n",
    "plt.grid(True, which='both', axis='both')\n",
    "plt.xticks(rotation=45)\n",
    "plt.show()"
   ]
  },
  {
   "cell_type": "markdown",
   "id": "7bd87748",
   "metadata": {},
   "source": [
    "### Are there seasonal patterns?"
   ]
  },
  {
   "cell_type": "code",
   "execution_count": 15,
   "id": "29da805c",
   "metadata": {},
   "outputs": [
    {
     "data": {
      "text/plain": [
       "Inspection Date\n",
       "3.0     12438\n",
       "4.0     12170\n",
       "11.0    11940\n",
       "10.0    11429\n",
       "8.0     11117\n",
       "5.0     10772\n",
       "2.0     10652\n",
       "7.0     10196\n",
       "1.0      9816\n",
       "6.0      9280\n",
       "9.0      8863\n",
       "12.0     8477\n",
       "Name: count, dtype: int64"
      ]
     },
     "execution_count": 15,
     "metadata": {},
     "output_type": "execute_result"
    }
   ],
   "source": [
    "# Count the number of values for each month\n",
    "df['Inspection Date'].dt.month.value_counts()"
   ]
  },
  {
   "cell_type": "code",
   "execution_count": 16,
   "id": "09bdaae8",
   "metadata": {},
   "outputs": [
    {
     "data": {
      "image/png": "[encoded data removed]",
      "text/plain": [
       "<Figure size 640x480 with 1 Axes>"
      ]
     },
     "metadata": {},
     "output_type": "display_data"
    }
   ],
   "source": [
    "ax = df['Inspection Date'].dt.month.value_counts().sort_index().plot.bar()\n",
    "plt.title(\"Inspections by month\")\n",
    "plt.xlabel(\"Month\")\n",
    "plt.ylabel(\"Inspection Count\")\n",
    "\n",
    "month_names = [\"Jan\", \"Feb\", \"Mar\", \"Apr\", \"May\", \"Jun\", \"Jul\", \"Aug\", \"Sep\", \"Oct\", \"Nov\", \"Dec\"]\n",
    "ax.set_xticklabels(month_names, rotation=45)\n",
    "plt.show()"
   ]
  },
  {
   "cell_type": "markdown",
   "id": "19411765",
   "metadata": {},
   "source": [
    "### What are the most common establishment types?"
   ]
  },
  {
   "cell_type": "code",
   "execution_count": 46,
   "id": "9b754ac7",
   "metadata": {},
   "outputs": [
    {
     "data": {
      "text/plain": [
       "Establishment Type\n",
       "Restaurant                          65444\n",
       "Food Take Out                       21883\n",
       "Food Store (Convenience/Variety)     6261\n",
       "Food Court Vendor                    4534\n",
       "Supermarket                          4209\n",
       "Child Care - Catered                 3358\n",
       "Bakery                               3268\n",
       "Child Care - Food Preparation        2429\n",
       "Student Nutrition Site               1284\n",
       "Food Caterer                         1226\n",
       "Retirement Homes(Licensed)           1164\n",
       "Butcher Shop                         1128\n",
       "Food Processing Plant                1127\n",
       "Banquet Facility                     1124\n",
       "Community Kitchen (Meal Program)      892\n",
       "Name: count, dtype: int64"
      ]
     },
     "execution_count": 46,
     "metadata": {},
     "output_type": "execute_result"
    }
   ],
   "source": [
    "df[\"Establishment Type\"].value_counts().nlargest(15).sort_values(ascending=False)"
   ]
  },
  {
   "cell_type": "markdown",
   "id": "ebbfce7c",
   "metadata": {},
   "source": [
    "### What are the most inspected establishment names?"
   ]
  },
  {
   "cell_type": "code",
   "execution_count": 50,
   "id": "498dfbc3",
   "metadata": {},
   "outputs": [
    {
     "data": {
      "text/plain": [
       "Establishment Name\n",
       "TIM HORTONS                  1976\n",
       "SUBWAY                       1008\n",
       "PIZZA PIZZA                   614\n",
       "MCDONALD'S                    389\n",
       "STARBUCKS                     363\n",
       "SHOPPERS DRUG MART            291\n",
       "FRESHII                       268\n",
       "PIZZAIOLO                     247\n",
       "A & W                         229\n",
       "METRO                         226\n",
       "POPEYES LOUISIANA KITCHEN     225\n",
       "PIZZA NOVA                    223\n",
       "BOOSTER JUICE                 217\n",
       "THAI EXPRESS                  212\n",
       "MONKEY SUSHI                  210\n",
       "Name: count, dtype: int64"
      ]
     },
     "execution_count": 50,
     "metadata": {},
     "output_type": "execute_result"
    }
   ],
   "source": [
    "df[\"Establishment Name\"].value_counts().nlargest(15).sort_values(ascending=False)"
   ]
  },
  {
   "cell_type": "markdown",
   "id": "2818968d",
   "metadata": {},
   "source": [
    "### What are the most inspected establishments?"
   ]
  },
  {
   "cell_type": "code",
   "execution_count": 65,
   "id": "4b327cee",
   "metadata": {},
   "outputs": [
    {
     "data": {
      "text/html": [
       "<div>\n",
       "<style scoped>\n",
       "    .dataframe tbody tr th:only-of-type {\n",
       "        vertical-align: middle;\n",
       "    }\n",
       "\n",
       "    .dataframe tbody tr th {\n",
       "        vertical-align: top;\n",
       "    }\n",
       "\n",
       "    .dataframe thead th {\n",
       "        text-align: right;\n",
       "    }\n",
       "</style>\n",
       "<table border=\"1\" class=\"dataframe\">\n",
       "  <thead>\n",
       "    <tr style=\"text-align: right;\">\n",
       "      <th></th>\n",
       "      <th>Establishment ID</th>\n",
       "      <th>Inspection Count</th>\n",
       "      <th>Establishment Name</th>\n",
       "    </tr>\n",
       "  </thead>\n",
       "  <tbody>\n",
       "    <tr>\n",
       "      <th>6112</th>\n",
       "      <td>10493439</td>\n",
       "      <td>90</td>\n",
       "      <td>LUCKY DRAGON RESTAURANT</td>\n",
       "    </tr>\n",
       "    <tr>\n",
       "      <th>6145</th>\n",
       "      <td>10495233</td>\n",
       "      <td>86</td>\n",
       "      <td>COMMISSO BROS &amp; RACCO ITALIAN BAKERY</td>\n",
       "    </tr>\n",
       "    <tr>\n",
       "      <th>9535</th>\n",
       "      <td>10636932</td>\n",
       "      <td>69</td>\n",
       "      <td>TERRA NOVA BAKERY AND PASTRY</td>\n",
       "    </tr>\n",
       "    <tr>\n",
       "      <th>15274</th>\n",
       "      <td>10775371</td>\n",
       "      <td>66</td>\n",
       "      <td>THE BIRYANI WALLA</td>\n",
       "    </tr>\n",
       "    <tr>\n",
       "      <th>12395</th>\n",
       "      <td>10735040</td>\n",
       "      <td>64</td>\n",
       "      <td>MB THE PLACE TO BE</td>\n",
       "    </tr>\n",
       "    <tr>\n",
       "      <th>10773</th>\n",
       "      <td>10681043</td>\n",
       "      <td>59</td>\n",
       "      <td>PHO ANH VU</td>\n",
       "    </tr>\n",
       "    <tr>\n",
       "      <th>279</th>\n",
       "      <td>9002879</td>\n",
       "      <td>56</td>\n",
       "      <td>CHINA GOURMET</td>\n",
       "    </tr>\n",
       "    <tr>\n",
       "      <th>5677</th>\n",
       "      <td>10472630</td>\n",
       "      <td>55</td>\n",
       "      <td>Kairali</td>\n",
       "    </tr>\n",
       "    <tr>\n",
       "      <th>13199</th>\n",
       "      <td>10752854</td>\n",
       "      <td>54</td>\n",
       "      <td>CHIANG RAI</td>\n",
       "    </tr>\n",
       "    <tr>\n",
       "      <th>8148</th>\n",
       "      <td>10582617</td>\n",
       "      <td>54</td>\n",
       "      <td>MAINSHA RESTAURANT</td>\n",
       "    </tr>\n",
       "    <tr>\n",
       "      <th>7216</th>\n",
       "      <td>10545363</td>\n",
       "      <td>52</td>\n",
       "      <td>NEW KALYANI TAKE OUT &amp; CATERING</td>\n",
       "    </tr>\n",
       "    <tr>\n",
       "      <th>2631</th>\n",
       "      <td>10204974</td>\n",
       "      <td>52</td>\n",
       "      <td>SEOUL HOUSE</td>\n",
       "    </tr>\n",
       "    <tr>\n",
       "      <th>3449</th>\n",
       "      <td>10304953</td>\n",
       "      <td>51</td>\n",
       "      <td>FOREST HILL PLACE</td>\n",
       "    </tr>\n",
       "    <tr>\n",
       "      <th>7339</th>\n",
       "      <td>10550126</td>\n",
       "      <td>51</td>\n",
       "      <td>ASIAN GOURMET</td>\n",
       "    </tr>\n",
       "    <tr>\n",
       "      <th>6287</th>\n",
       "      <td>10502460</td>\n",
       "      <td>51</td>\n",
       "      <td>Casa Deluz</td>\n",
       "    </tr>\n",
       "    <tr>\n",
       "      <th>9444</th>\n",
       "      <td>10632678</td>\n",
       "      <td>51</td>\n",
       "      <td>FRANCOBOLLO</td>\n",
       "    </tr>\n",
       "    <tr>\n",
       "      <th>9744</th>\n",
       "      <td>10647591</td>\n",
       "      <td>49</td>\n",
       "      <td>ROBO SUSHI</td>\n",
       "    </tr>\n",
       "    <tr>\n",
       "      <th>9630</th>\n",
       "      <td>10641341</td>\n",
       "      <td>49</td>\n",
       "      <td>URBAN HAKKA</td>\n",
       "    </tr>\n",
       "    <tr>\n",
       "      <th>13655</th>\n",
       "      <td>10759602</td>\n",
       "      <td>48</td>\n",
       "      <td>N'JOY SHAWARMA</td>\n",
       "    </tr>\n",
       "    <tr>\n",
       "      <th>5889</th>\n",
       "      <td>10483272</td>\n",
       "      <td>48</td>\n",
       "      <td>KRYSTOS MODERN GREEK CUISINE</td>\n",
       "    </tr>\n",
       "  </tbody>\n",
       "</table>\n",
       "</div>"
      ],
      "text/plain": [
       "       Establishment ID  Inspection Count  \\\n",
       "6112           10493439                90   \n",
       "6145           10495233                86   \n",
       "9535           10636932                69   \n",
       "15274          10775371                66   \n",
       "12395          10735040                64   \n",
       "10773          10681043                59   \n",
       "279             9002879                56   \n",
       "5677           10472630                55   \n",
       "13199          10752854                54   \n",
       "8148           10582617                54   \n",
       "7216           10545363                52   \n",
       "2631           10204974                52   \n",
       "3449           10304953                51   \n",
       "7339           10550126                51   \n",
       "6287           10502460                51   \n",
       "9444           10632678                51   \n",
       "9744           10647591                49   \n",
       "9630           10641341                49   \n",
       "13655          10759602                48   \n",
       "5889           10483272                48   \n",
       "\n",
       "                         Establishment Name  \n",
       "6112                LUCKY DRAGON RESTAURANT  \n",
       "6145   COMMISSO BROS & RACCO ITALIAN BAKERY  \n",
       "9535           TERRA NOVA BAKERY AND PASTRY  \n",
       "15274                     THE BIRYANI WALLA  \n",
       "12395                    MB THE PLACE TO BE  \n",
       "10773                            PHO ANH VU  \n",
       "279                           CHINA GOURMET  \n",
       "5677                                Kairali  \n",
       "13199                            CHIANG RAI  \n",
       "8148                     MAINSHA RESTAURANT  \n",
       "7216        NEW KALYANI TAKE OUT & CATERING  \n",
       "2631                            SEOUL HOUSE  \n",
       "3449                      FOREST HILL PLACE  \n",
       "7339                          ASIAN GOURMET  \n",
       "6287                             Casa Deluz  \n",
       "9444                            FRANCOBOLLO  \n",
       "9744                             ROBO SUSHI  \n",
       "9630                            URBAN HAKKA  \n",
       "13655                        N'JOY SHAWARMA  \n",
       "5889           KRYSTOS MODERN GREEK CUISINE  "
      ]
     },
     "execution_count": 65,
     "metadata": {},
     "output_type": "execute_result"
    }
   ],
   "source": [
    "inspection_counts = df.groupby(\"Establishment ID\").size().reset_index(name=\"Inspection Count\")\n",
    "establishment_names = df.groupby(\"Establishment ID\")[\"Establishment Name\"].first().reset_index() # Assuming name doesn't vary\n",
    "inspection_summary = pd.merge(inspection_counts, establishment_names, on=\"Establishment ID\").sort_values(\"Inspection Count\", ascending=False)\n",
    "\n",
    "inspection_summary.head(20)\n"
   ]
  }
 ],
 "metadata": {
  "kernelspec": {
   "display_name": "venv",
   "language": "python",
   "name": "python3"
  },
  "language_info": {
   "codemirror_mode": {
    "name": "ipython",
    "version": 3
   },
   "file_extension": ".py",
   "mimetype": "text/x-python",
   "name": "python",
   "nbconvert_exporter": "python",
   "pygments_lexer": "ipython3",
   "version": "3.12.4"
  }
 },
 "nbformat": 4,
 "nbformat_minor": 5
}
